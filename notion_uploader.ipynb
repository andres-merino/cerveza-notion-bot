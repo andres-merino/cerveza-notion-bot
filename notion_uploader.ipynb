{
  "cells": [
    {
      "cell_type": "markdown",
      "metadata": {
        "id": "I7uCDw72xiEu"
      },
      "source": [
        "# <font color='264CC7'> notion_uploader </font>\n",
        "\n",
        "En construcción."
      ]
    },
    {
      "cell_type": "markdown",
      "metadata": {
        "id": "mJADCrGVxiEv"
      },
      "source": [
        "Los paquetes necesarios son:"
      ]
    },
    {
      "cell_type": "code",
      "execution_count": 1,
      "metadata": {},
      "outputs": [],
      "source": [
        "# !pip install pymupdf \n",
        "# !pip install openai\n",
        "# !pip install notion-client\n",
        "# !pip install pyTelegramBotAPI"
      ]
    },
    {
      "cell_type": "code",
      "execution_count": null,
      "metadata": {
        "id": "JqO0d032xiEv"
      },
      "outputs": [],
      "source": [
        "# Paquetes necesarios\n",
        "import os\n",
        "import base64\n",
        "from datetime import datetime\n",
        "from openai import OpenAI \n",
        "from notion_client import Client\n",
        "import telebot"
      ]
    },
    {
      "cell_type": "code",
      "execution_count": 3,
      "metadata": {},
      "outputs": [],
      "source": [
        "# Asignar clave API de OpenAI\n",
        "from keys import OPENAI_API_KEY, NOTION_TOKEN, NOTION_DATABASE_ID, TELEGRAM_TOKEN, USUARIO_AUTORIZADO\n",
        "\n",
        "client = OpenAI(api_key=OPENAI_API_KEY)\n",
        "notion = Client(auth=NOTION_TOKEN)\n",
        "bot = telebot.TeleBot(TELEGRAM_TOKEN)"
      ]
    },
    {
      "cell_type": "markdown",
      "metadata": {
        "id": "AhPzdxpVxiEw"
      },
      "source": [
        "---\n",
        "## <font color='264CC7'> Lectura de image y extracción de datos </font>\n"
      ]
    },
    {
      "cell_type": "code",
      "execution_count": 4,
      "metadata": {
        "colab": {
          "base_uri": "https://localhost:8080/",
          "height": 206
        },
        "id": "9XYhnBmjxiEw",
        "outputId": "0311f49b-5ff4-4929-e4ee-1891fffd6d69"
      },
      "outputs": [],
      "source": [
        "# Function to encode the image\n",
        "def encode_image(image_path):\n",
        "    with open(image_path, \"rb\") as image_file:\n",
        "        return base64.b64encode(image_file.read()).decode(\"utf-8\")\n",
        "    \n",
        "    \n",
        "# 🤖 Función: Analizar con GPT\n",
        "def analizar_imagen_cerveza(ruta_imagen):\n",
        "\n",
        "    base64_image = encode_image(ruta_imagen)\n",
        "\n",
        "    response = client.responses.create(\n",
        "        model=\"gpt-4o-mini\",\n",
        "        input=[{\n",
        "            \"role\": \"user\",\n",
        "            \"content\": [\n",
        "                {\"type\": \"input_text\", \n",
        "                 \"text\": \"Extrae la siguiente información de todas las cervezas que encuentres en esta imagen: Nombre, Grados de alcohol (ABV) (sin porcentaje), IBU.\" \n",
        "                },\n",
        "                {\"type\": \"input_image\",\n",
        "                 \"image_url\": f\"data:image/jpeg;base64,{base64_image}\",\n",
        "                },\n",
        "            ],\n",
        "        }],\n",
        "    )\n",
        "    \n",
        "    prompt = \"\"\"\n",
        "Del siguiente texto, extrae una lista con:\n",
        "- Nombre de la cerveza\n",
        "- Grados de alcohol (ABV) (sin porcentaje)\n",
        "- IBU\n",
        "\n",
        "Devuelve un JSON de cervezas con esta estructura:\n",
        "{\n",
        "    \"cervezas\": [\n",
        "        {\n",
        "            \"nombre\": \"Nombre de la cerveza\",\n",
        "            \"abv\": \"Grados de alcohol (ABV) (sin porcentaje)\",\n",
        "            \"ibu\": \"IBU\"\n",
        "        },\n",
        "        ...\n",
        "    ]\n",
        "}\n",
        "\"\"\" + response.output_text\n",
        "    \n",
        "    response = client.chat.completions.create(\n",
        "        model=\"gpt-4o-mini\",\n",
        "        response_format={ \"type\": \"json_object\" },\n",
        "        messages=[{\"role\": \"user\", \"content\": prompt}],\n",
        "        temperature=0\n",
        "    )\n",
        "    return eval(response.choices[0].message.content)"
      ]
    },
    {
      "cell_type": "code",
      "execution_count": 5,
      "metadata": {},
      "outputs": [],
      "source": [
        "# ruta = \"datos/test.jpg\"\n",
        "# json_data = analizar_imagen_cerveza(ruta)\n",
        "# # Cantidad de caracteres extraídos\n",
        "# print(len(json_data))\n",
        "# print(json_data)"
      ]
    },
    {
      "cell_type": "markdown",
      "metadata": {},
      "source": [
        "---\n",
        "## <font color='264CC7'> Envío a Notion </font>"
      ]
    },
    {
      "cell_type": "code",
      "execution_count": 6,
      "metadata": {},
      "outputs": [],
      "source": [
        "# json_data = {'cervezas': [{'nombre': 'Antisana', 'abv': '6', 'ibu': '10'}, {'nombre': 'Catequilla', 'abv': '4.7', 'ibu': '20'}, {'nombre': 'Sierra Negra', 'abv': '4.8', 'ibu': '20'}, {'nombre': 'Concordia', 'abv': '5.3', 'ibu': '25'}, {'nombre': 'Apachita', 'abv': '5.9', 'ibu': '20'}, {'nombre': 'Puña Palmar', 'abv': '5.9', 'ibu': '32'}, {'nombre': 'Reinventador', 'abv': '7.3', 'ibu': '55'}]}"
      ]
    },
    {
      "cell_type": "code",
      "execution_count": 7,
      "metadata": {},
      "outputs": [],
      "source": [
        "# json_data[\"cervezas\"]"
      ]
    },
    {
      "cell_type": "code",
      "execution_count": 8,
      "metadata": {},
      "outputs": [],
      "source": [
        "# 📤 Función: Enviar a Notion\n",
        "def enviar_cervezas_a_notion(datos, lugar):\n",
        "    # Fecha actual sin hora ISO 8601\n",
        "    fecha_actual = datetime.now().strftime(\"%Y-%m-%d\")\n",
        "\n",
        "    for cerveza in datos[\"cervezas\"]:\n",
        "        nombre = cerveza.get(\"nombre\", \"Sin nombre\")\n",
        "        abv = float(cerveza.get(\"abv\", 0))\n",
        "        ibu = int(cerveza.get(\"ibu\", 0))\n",
        "\n",
        "        propiedades = {\n",
        "            \"Nombre\": {\n",
        "                \"title\": [{\"text\": {\"content\": nombre}}]\n",
        "            },\n",
        "            \"Grados\": {\n",
        "                \"number\": abv\n",
        "            },\n",
        "            \"IBU\": {\n",
        "                \"number\": ibu\n",
        "            },\n",
        "            \"Lugar\": {\n",
        "                \"multi_select\": [{\"name\": lugar}]\n",
        "            },\n",
        "            \"Fecha\": {\n",
        "                \"date\": {\n",
        "                    \"start\": fecha_actual,\n",
        "                }\n",
        "            },\n",
        "        }\n",
        "\n",
        "        notion.pages.create(\n",
        "            parent={\"database_id\": NOTION_DATABASE_ID},\n",
        "            properties=propiedades\n",
        "        )"
      ]
    },
    {
      "cell_type": "code",
      "execution_count": 9,
      "metadata": {},
      "outputs": [],
      "source": [
        "# enviar_cervezas_a_notion(json_data,\"Latitud Cero\")"
      ]
    },
    {
      "cell_type": "markdown",
      "metadata": {},
      "source": [
        "---\n",
        "## <font color='264CC7'> Bot de Telegram </font>"
      ]
    },
    {
      "cell_type": "code",
      "execution_count": null,
      "metadata": {},
      "outputs": [],
      "source": [
        "usuarios = {}\n",
        "\n",
        "# Restricción de acceso\n",
        "def es_usuario_autorizado(message):\n",
        "    return message.from_user.id == int(USUARIO_AUTORIZADO)\n",
        "\n",
        "def acceso_restringido(func):\n",
        "    def wrapper(message):\n",
        "        if not es_usuario_autorizado(message):\n",
        "            bot.reply_to(message, \"⛔ No estás autorizado para usar este bot.\")\n",
        "            return\n",
        "        return func(message)\n",
        "    return wrapper\n",
        "\n",
        "# Comando /start\n",
        "@bot.message_handler(commands=['start'])\n",
        "@acceso_restringido\n",
        "def start(message):\n",
        "    bot.send_message(message.chat.id, \"🍻 ¿Dónde estás probando las cervezas?\")\n",
        "    usuarios[message.chat.id] = {\"estado\": \"esperando_lugar\"}\n",
        "\n",
        "# Capturar el lugar\n",
        "@bot.message_handler(func=lambda msg: msg.chat.id in usuarios and usuarios[msg.chat.id][\"estado\"] == \"esperando_lugar\")\n",
        "@acceso_restringido\n",
        "def recibir_lugar(message):\n",
        "    usuarios[message.chat.id][\"lugar\"] = message.text.strip()\n",
        "    usuarios[message.chat.id][\"estado\"] = \"esperando_foto\"\n",
        "    bot.send_message(message.chat.id, \"📷 Ahora envíame una foto de la carta o etiquetas de cervezas.\")\n",
        "\n",
        "# Capturar imagen\n",
        "@bot.message_handler(content_types=['photo'])\n",
        "@acceso_restringido\n",
        "def recibir_foto(message):\n",
        "    estado = usuarios.get(message.chat.id, {})\n",
        "    if estado.get(\"estado\") != \"esperando_foto\":\n",
        "        bot.reply_to(message, \"Primero dime dónde estás (usa /start).\")\n",
        "        return\n",
        "\n",
        "    file_id = message.photo[-1].file_id\n",
        "    file_info = bot.get_file(file_id)\n",
        "    downloaded_file = bot.download_file(file_info.file_path)\n",
        "\n",
        "    ruta_img = f\"imagenes/{file_id}.jpg\"\n",
        "    os.makedirs(\"imagenes\", exist_ok=True)\n",
        "    with open(ruta_img, 'wb') as f:\n",
        "        f.write(downloaded_file)\n",
        "\n",
        "    bot.send_message(message.chat.id, \"🔍 Procesando la imagen...\")\n",
        "\n",
        "    try:\n",
        "        datos = analizar_imagen_cerveza(ruta_img) \n",
        "        lugar = usuarios[message.chat.id][\"lugar\"]\n",
        "        enviar_cervezas_a_notion(datos, lugar)  \n",
        "        bot.send_message(message.chat.id, \"✅ Cervezas registradas exitosamente en Notion.\")\n",
        "        bot.send_message(message.chat.id, \"Califica las cervezas aquí: https://www.notion.so/a5e415e423764b9cbe76ff6834f09e1d?v=ec1be78074934557979a77428b38abab\")\n",
        "    except Exception as e:\n",
        "        bot.send_message(message.chat.id, f\"⚠️ Error al procesar la imagen: {str(e)}\")\n",
        "\n",
        "    usuarios.pop(message.chat.id, None)\n",
        "\n",
        "# Fallback\n",
        "@bot.message_handler(func=lambda message: True)\n",
        "def fallback(message):\n",
        "    if not es_usuario_autorizado(message):\n",
        "        return\n",
        "    bot.reply_to(message, \"Por favor, inicia con /start para registrar una cerveza.\")\n",
        "\n",
        "# Ejecutar bot\n",
        "bot.polling()\n"
      ]
    },
    {
      "cell_type": "code",
      "execution_count": null,
      "metadata": {},
      "outputs": [],
      "source": []
    }
  ],
  "metadata": {
    "colab": {
      "provenance": []
    },
    "kernelspec": {
      "display_name": "Python 3",
      "language": "python",
      "name": "python3"
    },
    "language_info": {
      "codemirror_mode": {
        "name": "ipython",
        "version": 3
      },
      "file_extension": ".py",
      "mimetype": "text/x-python",
      "name": "python",
      "nbconvert_exporter": "python",
      "pygments_lexer": "ipython3",
      "version": "3.9.7"
    }
  },
  "nbformat": 4,
  "nbformat_minor": 0
}
